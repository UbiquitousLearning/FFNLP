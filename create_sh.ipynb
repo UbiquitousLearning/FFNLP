{
 "cells": [
  {
   "cell_type": "code",
   "execution_count": 1,
   "metadata": {},
   "outputs": [
    {
     "name": "stdout",
     "output_type": "stream",
     "text": [
      "# -----------------------\n",
      "# client_num_in_total: 1\n",
      "nohup python sweep.py --dataset agnews --device 1 --train_examples 1 --test_examples -1 --unlabeled_examples -1 --method fedclassifier --client_num_in_total 1 --all_client_num_in_total 1000 --pattern_ids 1 --beta 1 &\n",
      "nohup python sweep.py --dataset agnews --device 1 --train_examples 2 --test_examples -1 --unlabeled_examples -1 --method fedclassifier --client_num_in_total 1 --all_client_num_in_total 1000 --pattern_ids 1 --beta 1 &\n",
      "nohup python sweep.py --dataset agnews --device 1 --train_examples 4 --test_examples -1 --unlabeled_examples -1 --method fedclassifier --client_num_in_total 1 --all_client_num_in_total 1000 --pattern_ids 1 --beta 1 &\n",
      "nohup python sweep.py --dataset agnews --device 1 --train_examples 8 --test_examples -1 --unlabeled_examples -1 --method fedclassifier --client_num_in_total 1 --all_client_num_in_total 1000 --pattern_ids 1 --beta 1 &\n",
      "nohup python sweep.py --dataset agnews --device 1 --train_examples 16 --test_examples -1 --unlabeled_examples -1 --method fedclassifier --client_num_in_total 1 --all_client_num_in_total 1000 --pattern_ids 1 --beta 1 &\n",
      "nohup python sweep.py --dataset agnews --device 1 --train_examples 32 --test_examples -1 --unlabeled_examples -1 --method fedclassifier --client_num_in_total 1 --all_client_num_in_total 1000 --pattern_ids 1 --beta 1 &\n",
      "# -----------------------\n",
      "# client_num_in_total: 2\n",
      "nohup python sweep.py --dataset agnews --device 1 --train_examples 2 --test_examples -1 --unlabeled_examples -1 --method fedclassifier --client_num_in_total 2 --all_client_num_in_total 1000 --pattern_ids 1 --beta 1 &\n",
      "nohup python sweep.py --dataset agnews --device 1 --train_examples 4 --test_examples -1 --unlabeled_examples -1 --method fedclassifier --client_num_in_total 2 --all_client_num_in_total 1000 --pattern_ids 1 --beta 1 &\n",
      "nohup python sweep.py --dataset agnews --device 1 --train_examples 8 --test_examples -1 --unlabeled_examples -1 --method fedclassifier --client_num_in_total 2 --all_client_num_in_total 1000 --pattern_ids 1 --beta 1 &\n",
      "nohup python sweep.py --dataset agnews --device 1 --train_examples 16 --test_examples -1 --unlabeled_examples -1 --method fedclassifier --client_num_in_total 2 --all_client_num_in_total 1000 --pattern_ids 1 --beta 1 &\n",
      "nohup python sweep.py --dataset agnews --device 1 --train_examples 32 --test_examples -1 --unlabeled_examples -1 --method fedclassifier --client_num_in_total 2 --all_client_num_in_total 1000 --pattern_ids 1 --beta 1 &\n",
      "nohup python sweep.py --dataset agnews --device 1 --train_examples 64 --test_examples -1 --unlabeled_examples -1 --method fedclassifier --client_num_in_total 2 --all_client_num_in_total 1000 --pattern_ids 1 --beta 1 &\n",
      "# -----------------------\n",
      "# client_num_in_total: 4\n",
      "nohup python sweep.py --dataset agnews --device 1 --train_examples 4 --test_examples -1 --unlabeled_examples -1 --method fedclassifier --client_num_in_total 4 --all_client_num_in_total 1000 --pattern_ids 1 --beta 1 &\n",
      "nohup python sweep.py --dataset agnews --device 1 --train_examples 8 --test_examples -1 --unlabeled_examples -1 --method fedclassifier --client_num_in_total 4 --all_client_num_in_total 1000 --pattern_ids 1 --beta 1 &\n",
      "nohup python sweep.py --dataset agnews --device 1 --train_examples 16 --test_examples -1 --unlabeled_examples -1 --method fedclassifier --client_num_in_total 4 --all_client_num_in_total 1000 --pattern_ids 1 --beta 1 &\n",
      "nohup python sweep.py --dataset agnews --device 1 --train_examples 32 --test_examples -1 --unlabeled_examples -1 --method fedclassifier --client_num_in_total 4 --all_client_num_in_total 1000 --pattern_ids 1 --beta 1 &\n",
      "nohup python sweep.py --dataset agnews --device 1 --train_examples 64 --test_examples -1 --unlabeled_examples -1 --method fedclassifier --client_num_in_total 4 --all_client_num_in_total 1000 --pattern_ids 1 --beta 1 &\n",
      "nohup python sweep.py --dataset agnews --device 1 --train_examples 128 --test_examples -1 --unlabeled_examples -1 --method fedclassifier --client_num_in_total 4 --all_client_num_in_total 1000 --pattern_ids 1 --beta 1 &\n",
      "# -----------------------\n",
      "# client_num_in_total: 8\n",
      "nohup python sweep.py --dataset agnews --device 1 --train_examples 8 --test_examples -1 --unlabeled_examples -1 --method fedclassifier --client_num_in_total 8 --all_client_num_in_total 1000 --pattern_ids 1 --beta 1 &\n",
      "nohup python sweep.py --dataset agnews --device 1 --train_examples 16 --test_examples -1 --unlabeled_examples -1 --method fedclassifier --client_num_in_total 8 --all_client_num_in_total 1000 --pattern_ids 1 --beta 1 &\n",
      "nohup python sweep.py --dataset agnews --device 1 --train_examples 32 --test_examples -1 --unlabeled_examples -1 --method fedclassifier --client_num_in_total 8 --all_client_num_in_total 1000 --pattern_ids 1 --beta 1 &\n",
      "nohup python sweep.py --dataset agnews --device 1 --train_examples 64 --test_examples -1 --unlabeled_examples -1 --method fedclassifier --client_num_in_total 8 --all_client_num_in_total 1000 --pattern_ids 1 --beta 1 &\n",
      "nohup python sweep.py --dataset agnews --device 1 --train_examples 128 --test_examples -1 --unlabeled_examples -1 --method fedclassifier --client_num_in_total 8 --all_client_num_in_total 1000 --pattern_ids 1 --beta 1 &\n",
      "nohup python sweep.py --dataset agnews --device 1 --train_examples 256 --test_examples -1 --unlabeled_examples -1 --method fedclassifier --client_num_in_total 8 --all_client_num_in_total 1000 --pattern_ids 1 --beta 1 &\n",
      "# -----------------------\n",
      "# client_num_in_total: 16\n",
      "nohup python sweep.py --dataset agnews --device 1 --train_examples 16 --test_examples -1 --unlabeled_examples -1 --method fedclassifier --client_num_in_total 16 --all_client_num_in_total 1000 --pattern_ids 1 --beta 1 &\n",
      "nohup python sweep.py --dataset agnews --device 1 --train_examples 32 --test_examples -1 --unlabeled_examples -1 --method fedclassifier --client_num_in_total 16 --all_client_num_in_total 1000 --pattern_ids 1 --beta 1 &\n",
      "nohup python sweep.py --dataset agnews --device 1 --train_examples 64 --test_examples -1 --unlabeled_examples -1 --method fedclassifier --client_num_in_total 16 --all_client_num_in_total 1000 --pattern_ids 1 --beta 1 &\n",
      "nohup python sweep.py --dataset agnews --device 1 --train_examples 128 --test_examples -1 --unlabeled_examples -1 --method fedclassifier --client_num_in_total 16 --all_client_num_in_total 1000 --pattern_ids 1 --beta 1 &\n",
      "nohup python sweep.py --dataset agnews --device 1 --train_examples 256 --test_examples -1 --unlabeled_examples -1 --method fedclassifier --client_num_in_total 16 --all_client_num_in_total 1000 --pattern_ids 1 --beta 1 &\n",
      "nohup python sweep.py --dataset agnews --device 1 --train_examples 512 --test_examples -1 --unlabeled_examples -1 --method fedclassifier --client_num_in_total 16 --all_client_num_in_total 1000 --pattern_ids 1 --beta 1 &\n",
      "# -----------------------\n",
      "# client_num_in_total: 32\n",
      "nohup python sweep.py --dataset agnews --device 1 --train_examples 32 --test_examples -1 --unlabeled_examples -1 --method fedclassifier --client_num_in_total 32 --all_client_num_in_total 1000 --pattern_ids 1 --beta 1 &\n",
      "nohup python sweep.py --dataset agnews --device 1 --train_examples 64 --test_examples -1 --unlabeled_examples -1 --method fedclassifier --client_num_in_total 32 --all_client_num_in_total 1000 --pattern_ids 1 --beta 1 &\n",
      "nohup python sweep.py --dataset agnews --device 1 --train_examples 128 --test_examples -1 --unlabeled_examples -1 --method fedclassifier --client_num_in_total 32 --all_client_num_in_total 1000 --pattern_ids 1 --beta 1 &\n",
      "nohup python sweep.py --dataset agnews --device 1 --train_examples 256 --test_examples -1 --unlabeled_examples -1 --method fedclassifier --client_num_in_total 32 --all_client_num_in_total 1000 --pattern_ids 1 --beta 1 &\n",
      "nohup python sweep.py --dataset agnews --device 1 --train_examples 512 --test_examples -1 --unlabeled_examples -1 --method fedclassifier --client_num_in_total 32 --all_client_num_in_total 1000 --pattern_ids 1 --beta 1 &\n",
      "nohup python sweep.py --dataset agnews --device 1 --train_examples 1024 --test_examples -1 --unlabeled_examples -1 --method fedclassifier --client_num_in_total 32 --all_client_num_in_total 1000 --pattern_ids 1 --beta 1 &\n"
     ]
    }
   ],
   "source": [
    "client_num_in_total_list=[(2**i) for i in range(6)]  # todo 10 50 100\n",
    "samples_per_client_list=[(2**i) for i in range(6)] \n",
    "\n",
    "device = 1\n",
    "pattern_ids = 1\n",
    "all_client_num_in_total = 1000\n",
    "for client_num_in_total in client_num_in_total_list:\n",
    "    print(\"# -----------------------\")\n",
    "    print(\"# client_num_in_total: {}\".format(client_num_in_total))\n",
    "    for samples_per_client in samples_per_client_list:\n",
    "        train_examples = client_num_in_total * samples_per_client\n",
    "        run = \"nohup python sweep.py --dataset agnews --device {} --train_examples {} --test_examples -1 --unlabeled_examples -1 --method fedclassifier --client_num_in_total {} --all_client_num_in_total {} --pattern_ids {} --beta 1 &\".format(device, train_examples, client_num_in_total, all_client_num_in_total, pattern_ids)\n",
    "\n",
    "        print(run)\n",
    "\n",
    "\n",
    "# nohup python sweep.py --dataset yahoo --device 7 --train_examples 16 --test_examples -1 --unlabeled_examples -1 --method fedpet --client_num_in_total 4 --all_client_num_in_total 1000 &\n",
    "\n",
    "# nohup python sweep.py --dataset yelp-full --device 7 --train_examples 16 --test_examples -1 --unlabeled_examples -1 --method fedpet --client_num_in_total 4 --all_client_num_in_total 1000 --pattern_ids 0 &\n",
    "\n",
    "# nohup python sweep.py --dataset boolq --device 7 --train_examples 256 --test_examples -1 --unlabeled_examples -1 --method fedpet --client_num_in_total 32 --all_client_num_in_total 50 &\n",
    "\n",
    "# nohup python sweep.py --dataset mnli --device 7 --train_examples 16 --test_examples -1 --unlabeled_examples -1 --method fedpet --client_num_in_total 4 --all_client_num_in_total 1000 &"
   ]
  },
  {
   "cell_type": "code",
   "execution_count": null,
   "metadata": {},
   "outputs": [],
   "source": []
  }
 ],
 "metadata": {
  "kernelspec": {
   "display_name": "Python 3.7.13 ('ptpretrain')",
   "language": "python",
   "name": "python3"
  },
  "language_info": {
   "codemirror_mode": {
    "name": "ipython",
    "version": 3
   },
   "file_extension": ".py",
   "mimetype": "text/x-python",
   "name": "python",
   "nbconvert_exporter": "python",
   "pygments_lexer": "ipython3",
   "version": "3.7.13"
  },
  "orig_nbformat": 4,
  "vscode": {
   "interpreter": {
    "hash": "2c821809210aa391b17e4d60edfc9165cf4a62d2648f08e4ac243934ff5ff366"
   }
  }
 },
 "nbformat": 4,
 "nbformat_minor": 2
}
