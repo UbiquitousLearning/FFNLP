{
 "cells": [
  {
   "cell_type": "code",
   "execution_count": 2,
   "metadata": {},
   "outputs": [],
   "source": [
    "import numpy as np"
   ]
  },
  {
   "cell_type": "code",
   "execution_count": 4,
   "metadata": {},
   "outputs": [
    {
     "name": "stdout",
     "output_type": "stream",
     "text": [
      "agnews\n",
      "t1 13.847667407172326\n",
      "t2 1.2105263157894737\n",
      "t3 3.466045272969374\n",
      "mnli\n",
      "t1 20.58569753810082\n",
      "t2 1.2712369597615498\n",
      "t3 2.5665544675642598\n",
      "yahoo\n",
      "t1 8.03809523809524\n",
      "t2 3.480662983425414\n",
      "t3 1.6380090497737556\n",
      "yelp-full\n",
      "t1 62.320855614973254\n",
      "t2 1.7683215130023642\n",
      "t3 2.858108108108108\n"
     ]
    }
   ],
   "source": [
    "# ablation\n",
    "ablation = {'agnews': np.array([43634.0, 3151.0, 2603.0, 751.0]) / 3600, 'mnli': np.array([87798.0, 4265.0, 3355.0, 1307.2]) / 3600, 'yahoo': np.array([10128.0, 1260.0, 362.0, 221.0]) / 3600, 'yelp-full': np.array([23308.0, 374.0, 211.5, 74.0]) / 3600}\n",
    "\n",
    "for dataset in ablation:\n",
    "    print(dataset)\n",
    "    print(\"t1\", ablation[dataset][0] / ablation[dataset][1])\n",
    "    print(\"t2\", ablation[dataset][1] / ablation[dataset][2])\n",
    "    print(\"t3\", ablation[dataset][2] / ablation[dataset][3])"
   ]
  },
  {
   "cell_type": "code",
   "execution_count": null,
   "metadata": {},
   "outputs": [],
   "source": []
  }
 ],
 "metadata": {
  "kernelspec": {
   "display_name": "Python 3.7.11 ('fednlp')",
   "language": "python",
   "name": "python3"
  },
  "language_info": {
   "codemirror_mode": {
    "name": "ipython",
    "version": 3
   },
   "file_extension": ".py",
   "mimetype": "text/x-python",
   "name": "python",
   "nbconvert_exporter": "python",
   "pygments_lexer": "ipython3",
   "version": "3.7.11"
  },
  "orig_nbformat": 4,
  "vscode": {
   "interpreter": {
    "hash": "7b70465f8729e5d3096f68a9386b4f93afdddeed84afbab797b784e9c714821a"
   }
  }
 },
 "nbformat": 4,
 "nbformat_minor": 2
}
