{
 "cells": [
  {
   "cell_type": "code",
   "execution_count": 33,
   "metadata": {},
   "outputs": [],
   "source": [
    "label_font_conf = {\n",
    "    # \"weight\": \"bold\",\n",
    "    \"size\": \"15\"\n",
    "}\n",
    "bar_confs = {\n",
    "    \"color\": [\"white\", \"white\", \"silver\"],\n",
    "    \"linewidth\": 1,\n",
    "    \"hatch\": [\"\", \"//\", \"\"],\n",
    "    \"edgecolor\": \"black\",\n",
    "}"
   ]
  },
  {
   "cell_type": "code",
   "execution_count": 36,
   "metadata": {},
   "outputs": [],
   "source": [
    "import matplotlib.pyplot as plt\n",
    "import numpy as np\n",
    "import sys\n",
    "\n",
    "origin = {'roberta-large': [10.431, 5.817,2.323],\n",
    " 'roberta-base': [4.289, 2.615, 1.011]}\n",
    "label_font_conf = {\n",
    "    # \"weight\": \"bold\",\n",
    "    \"size\": \"15\"\n",
    "}\n",
    "bar_confs = {\n",
    "    \"color\": [\"white\", \"white\", \"silver\"],\n",
    "    \"linewidth\": 1,\n",
    "    \"hatch\": [\"\", \"//\", \"\"],\n",
    "    \"edgecolor\": \"black\",\n",
    "}\n",
    "figure_mosaic = \"\"\"\n",
    "    AAA.BBB\n",
    "    \"\"\""
   ]
  },
  {
   "cell_type": "code",
   "execution_count": 40,
   "metadata": {},
   "outputs": [
    {
     "data": {
      "image/png": "[encoded data removed]",
      "text/plain": [
       "<Figure size 600x200 with 2 Axes>"
      ]
     },
     "metadata": {
      "needs_background": "light"
     },
     "output_type": "display_data"
    }
   ],
   "source": [
    "fig, axes = plt.subplot_mosaic(mosaic=figure_mosaic, figsize=(6, 2), dpi=100)\n",
    "bar_width = 0.03\n",
    "\n",
    "x = [0.1, 0.1+bar_width*2, 0.1+bar_width*4]\n",
    "data = origin\n",
    "\n",
    "xlabels = [\"roberta-large\", \"roberta-base\"]\n",
    "xlabels_fig = [\"RoBERTa-large\", \"RoBERTa-base\"]\n",
    "ax = [axes[\"A\"], axes[\"B\"]]\n",
    "\n",
    "for i in range(len(axes)):\n",
    "    ax[i].set_xlabel(xlabels_fig[i], **label_font_conf)\n",
    "    ax[i].set_ylim(0,11)\n",
    "    if i == 0:\n",
    "        ax[i].axhline(y=8,ls=\"--\",c=\"r\")\n",
    "        ax[i].text(x=0.2,y=8.5,s=\"OOM\",va='center', ha='center', fontsize=9, color=\"r\")\n",
    "    ax[i].set_xticks([])\n",
    "    dataset = xlabels[i]  # video name\n",
    "    fps = data[dataset]\n",
    "    ax[i].bar(x, fps, width=bar_width, **bar_confs)\n",
    "\n",
    "    ax[i].grid(axis=\"y\", alpha=0.3)\n",
    "    ax[i].set_xlim(min(x)-bar_width*1.5, max(x)+bar_width*1.5)\n",
    "\n",
    "    # # tag value on the last bar.\n",
    "    # rect = ax[i].patches\n",
    "    # height = rect[-1].get_height()\n",
    "    # absolute_value = round(energy[dataset][-1] * 5 / 100, 1)\n",
    "    # if i == 0:\n",
    "    #     ax[i].text(x[-1]-0.025, height+0.2,absolute_value) \n",
    "    # elif i == 1:\n",
    "    #     ax[i].text(x[-1]-0.025, height+0.5,absolute_value) \n",
    "    # elif i == 2:\n",
    "    #     ax[i].text(x[-1]-0.025, height+0.30,absolute_value) \n",
    "    # elif i == 3:\n",
    "    #     absolute_value = round(energy[dataset][-1] * 5 / 600, 1)\n",
    "    #     ax[i].text(x[-1]-0.025, height+0.04,absolute_value) \n",
    "\n",
    "\n",
    "ax[0].set_ylabel(r\"Peak Memory (G)\", **label_font_conf)\n",
    "# https://matplotlib.org/stable/api/container_api.html#module-matplotlib.container\n",
    "bars = ax[0].containers[0].get_children()\n",
    "# [\"fecls\",\"origin\",\"bitfit\", \"bitfit+filter\", \"bitfit+filter+curriculum\"]\n",
    "labels = [\"FedFSL\", \"FedFSL-BIAS\", \"Ours\"]\n",
    "ax[0].legend(bars, labels, ncol=3, loc=\"lower left\", bbox_to_anchor=(0.1, 1),frameon=False,fontsize=12,columnspacing = 2,handletextpad=0.5)\n",
    "\n",
    "plt.subplots_adjust(wspace=2.5)\n",
    "# plt.show()\n",
    "plt.savefig('/Users/cdq/Desktop/opensource/FedPrompt/figs/cost/wyz-memory.pdf', bbox_inches=\"tight\")"
   ]
  },
  {
   "cell_type": "code",
   "execution_count": null,
   "metadata": {},
   "outputs": [],
   "source": []
  },
  {
   "cell_type": "code",
   "execution_count": null,
   "metadata": {},
   "outputs": [],
   "source": []
  }
 ],
 "metadata": {
  "kernelspec": {
   "display_name": "Python 3.7.11 ('fednlp')",
   "language": "python",
   "name": "python3"
  },
  "language_info": {
   "codemirror_mode": {
    "name": "ipython",
    "version": 3
   },
   "file_extension": ".py",
   "mimetype": "text/x-python",
   "name": "python",
   "nbconvert_exporter": "python",
   "pygments_lexer": "ipython3",
   "version": "3.7.11"
  },
  "orig_nbformat": 4,
  "vscode": {
   "interpreter": {
    "hash": "7b70465f8729e5d3096f68a9386b4f93afdddeed84afbab797b784e9c714821a"
   }
  }
 },
 "nbformat": 4,
 "nbformat_minor": 2
}
