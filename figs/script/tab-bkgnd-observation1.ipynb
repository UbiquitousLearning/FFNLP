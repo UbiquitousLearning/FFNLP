{
 "cells": [
  {
   "cell_type": "code",
   "execution_count": 8,
   "metadata": {},
   "outputs": [],
   "source": [
    "import numpy as np"
   ]
  },
  {
   "cell_type": "code",
   "execution_count": 9,
   "metadata": {},
   "outputs": [
    {
     "name": "stdout",
     "output_type": "stream",
     "text": [
      "agnews 67.54605263157895 1.2697368421052624\n",
      "mnli 42.72542027508915 6.250636780438107\n",
      "yahoo 31.008333333333336 2.043333333333333\n",
      "yelp 45.68120610351563 4.368793896484371\n",
      "yelp-uniform 56.97533333333333 2.196149559772487\n"
     ]
    }
   ],
   "source": [
    "pseudo = {\n",
    "    # \"dataset\": [seed-6, seed-42, seed-99]\n",
    "    \"agnews\": [0.6627631578947368, 0.6881578947368421],\n",
    "    \"mnli\": [0.48976057055527256, 0.3647478349465104],\n",
    "    \"yahoo\": [0.28965, 0.3305166666666667],\n",
    "    \"yelp\": [0.4131241220703125, 0.5005],\n",
    "    \"yelp-uniform\": [0.55902, 0.60036, 0.54988],\n",
    "}\n",
    "for dataset in pseudo:\n",
    "    print(dataset, np.mean(pseudo[dataset])*100, np.std(pseudo[dataset])*100)\n"
   ]
  },
  {
   "cell_type": "code",
   "execution_count": null,
   "metadata": {},
   "outputs": [],
   "source": []
  }
 ],
 "metadata": {
  "kernelspec": {
   "display_name": "Python 3.7.11 ('fednlp')",
   "language": "python",
   "name": "python3"
  },
  "language_info": {
   "codemirror_mode": {
    "name": "ipython",
    "version": 3
   },
   "file_extension": ".py",
   "mimetype": "text/x-python",
   "name": "python",
   "nbconvert_exporter": "python",
   "pygments_lexer": "ipython3",
   "version": "3.7.11"
  },
  "orig_nbformat": 4,
  "vscode": {
   "interpreter": {
    "hash": "7b70465f8729e5d3096f68a9386b4f93afdddeed84afbab797b784e9c714821a"
   }
  }
 },
 "nbformat": 4,
 "nbformat_minor": 2
}
